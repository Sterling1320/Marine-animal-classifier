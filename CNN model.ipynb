{
 "cells": [
  {
   "cell_type": "code",
   "execution_count": 26,
   "metadata": {},
   "outputs": [],
   "source": [
    "import os\n",
    "import cv2\n",
    "import numpy as np\n",
    "from sklearn.model_selection import train_test_split"
   ]
  },
  {
   "cell_type": "code",
   "execution_count": 27,
   "metadata": {},
   "outputs": [],
   "source": [
    "dataset_dir = 'C:\\\\Users\\\\Avinash\\\\Desktop\\\\project tools\\\\marine\\\\dataset2'"
   ]
  },
  {
   "cell_type": "code",
   "execution_count": 28,
   "metadata": {},
   "outputs": [],
   "source": [
    "# Initialize empty lists to store image data and corresponding labels\n",
    "images = []\n",
    "labels = []"
   ]
  },
  {
   "cell_type": "code",
   "execution_count": 29,
   "metadata": {},
   "outputs": [],
   "source": [
    "# Example labels (replace with your actual labels)\n",
    "labels = [\"Clams\", \"Corals\", \"Crabs\", \"Dolphin\", \"Eel\", \"Fish\", \"Jelly Fish\", \"Lobster\", \"Nudibranchs\", \"Octopus\"]"
   ]
  },
  {
   "cell_type": "code",
   "execution_count": 30,
   "metadata": {},
   "outputs": [],
   "source": [
    "import os\n",
    "import cv2\n",
    "import numpy as np\n",
    "from sklearn.model_selection import train_test_split\n",
    "\n",
    "# Define the path to your dataset directory\n",
    "dataset_dir = 'C:\\\\Users\\\\Avinash\\\\Desktop\\\\project tools\\\\marine\\\\dataset2'\n",
    "\n",
    "# Initialize lists to store image data and corresponding labels\n",
    "images = []\n",
    "labels = []\n",
    "\n",
    "# Iterate through the dataset directory to load images and labels\n",
    "for folder_name in os.listdir(dataset_dir):\n",
    "    class_path = os.path.join(dataset_dir, folder_name)\n",
    "    if os.path.isdir(class_path):\n",
    "        # Assign a unique label to each class (subfolder)\n",
    "        label = folder_name\n",
    "        for image_name in os.listdir(class_path):\n",
    "            image_path = os.path.join(class_path, image_name)\n",
    "            # Load the image using OpenCV and preprocess it (e.g., resize)\n",
    "            image = cv2.imread(image_path)\n",
    "            image = cv2.resize(image, (128, 128))  # Resize to a common size\n",
    "            # You can add more preprocessing steps here if needed\n",
    "            images.append(image)\n",
    "            labels.append(label)  # Assign the label to each image\n",
    "\n",
    "# Convert lists to NumPy arrays for easier manipulation\n",
    "images = np.array(images)\n",
    "labels = np.array(labels)\n",
    "\n",
    "# At this point, you should have images and labels correctly aligned.\n",
    "\n",
    "# Convert labels to integers\n",
    "unique_labels = np.unique(labels)\n",
    "class_to_int = {class_name: i for i, class_name in enumerate(unique_labels)}\n",
    "labels = np.array([class_to_int[label] for label in labels])\n",
    "\n",
    "# Split the data into training and testing sets\n",
    "x_train, x_test, y_train, y_test = train_test_split(images, labels, test_size=0.2, random_state=42)\n",
    "\n",
    "# Now, you have x_train, y_train (training data) and x_test, y_test (testing data) ready for your CNN model.\n"
   ]
  },
  {
   "cell_type": "code",
   "execution_count": 31,
   "metadata": {},
   "outputs": [],
   "source": [
    "import tensorflow as tf\n",
    "from tensorflow.keras import layers, models\n",
    "\n",
    "# Define the CNN model\n",
    "model = models.Sequential()\n",
    "\n",
    "# Convolutional layers\n",
    "model.add(layers.Conv2D(32, (3, 3), activation='relu', input_shape=(128, 128, 3)))\n",
    "model.add(layers.MaxPooling2D((2, 2)))\n",
    "model.add(layers.Conv2D(64, (3, 3), activation='relu'))\n",
    "model.add(layers.MaxPooling2D((2, 2)))\n",
    "model.add(layers.Conv2D(128, (3, 3), activation='relu'))\n",
    "model.add(layers.MaxPooling2D((2, 2)))\n",
    "\n",
    "# Flatten the output for the fully connected layers\n",
    "model.add(layers.Flatten())\n",
    "\n",
    "# Fully connected layers\n",
    "model.add(layers.Dense(128, activation='relu'))\n",
    "model.add(layers.Dense(len(class_to_int), activation='softmax'))  # Output layer with the number of classes\n",
    "\n",
    "# Compile the model\n",
    "model.compile(optimizer='adam',\n",
    "              loss='sparse_categorical_crossentropy',  # Use 'categorical_crossentropy' if labels are one-hot encoded\n",
    "              metrics=['accuracy'])\n",
    "\n",
    "# Now, your CNN model is defined and ready for training.\n"
   ]
  },
  {
   "cell_type": "code",
   "execution_count": 16,
   "metadata": {},
   "outputs": [
    {
     "name": "stdout",
     "output_type": "stream",
     "text": [
      "Epoch 1/10\n",
      "49/49 [==============================] - 20s 387ms/step - loss: 22.7227 - accuracy: 0.1970 - val_loss: 2.0302 - val_accuracy: 0.2641\n",
      "Epoch 2/10\n",
      "49/49 [==============================] - 17s 348ms/step - loss: 1.8101 - accuracy: 0.3723 - val_loss: 2.0076 - val_accuracy: 0.2641\n",
      "Epoch 3/10\n",
      "49/49 [==============================] - 18s 379ms/step - loss: 1.4814 - accuracy: 0.4929 - val_loss: 2.1936 - val_accuracy: 0.3333\n",
      "Epoch 4/10\n",
      "49/49 [==============================] - 20s 406ms/step - loss: 1.0569 - accuracy: 0.6496 - val_loss: 2.3817 - val_accuracy: 0.3385\n",
      "Epoch 5/10\n",
      "49/49 [==============================] - 18s 374ms/step - loss: 0.7116 - accuracy: 0.7625 - val_loss: 2.6378 - val_accuracy: 0.3974\n",
      "Epoch 6/10\n",
      "49/49 [==============================] - 18s 358ms/step - loss: 0.4421 - accuracy: 0.8607 - val_loss: 3.3971 - val_accuracy: 0.3462\n",
      "Epoch 7/10\n",
      "49/49 [==============================] - 17s 355ms/step - loss: 0.2528 - accuracy: 0.9236 - val_loss: 3.7246 - val_accuracy: 0.3667\n",
      "Epoch 8/10\n",
      "49/49 [==============================] - 18s 362ms/step - loss: 0.1637 - accuracy: 0.9544 - val_loss: 4.2092 - val_accuracy: 0.3436\n",
      "Epoch 9/10\n",
      "49/49 [==============================] - 18s 364ms/step - loss: 0.1036 - accuracy: 0.9698 - val_loss: 4.7130 - val_accuracy: 0.3359\n",
      "Epoch 10/10\n",
      "49/49 [==============================] - 19s 380ms/step - loss: 0.2148 - accuracy: 0.9397 - val_loss: 4.1363 - val_accuracy: 0.3462\n"
     ]
    },
    {
     "data": {
      "text/plain": [
       "<keras.callbacks.History at 0x2b4e3a4ce90>"
      ]
     },
     "execution_count": 16,
     "metadata": {},
     "output_type": "execute_result"
    }
   ],
   "source": [
    "# Train the model\n",
    "model.fit(x_train, y_train, epochs=10, validation_data=(x_test, y_test))\n"
   ]
  },
  {
   "cell_type": "code",
   "execution_count": 17,
   "metadata": {},
   "outputs": [
    {
     "name": "stdout",
     "output_type": "stream",
     "text": [
      "13/13 [==============================] - 1s 69ms/step - loss: 4.1363 - accuracy: 0.3462\n",
      "Test accuracy: 0.3461538553237915\n"
     ]
    }
   ],
   "source": [
    "test_loss, test_accuracy = model.evaluate(x_test, y_test)\n",
    "print(f\"Test accuracy: {test_accuracy}\")\n"
   ]
  },
  {
   "cell_type": "code",
   "execution_count": 32,
   "metadata": {},
   "outputs": [
    {
     "name": "stdout",
     "output_type": "stream",
     "text": [
      "1/1 [==============================] - 0s 88ms/step\n"
     ]
    }
   ],
   "source": [
    "# Load and preprocess a single new image\n",
    "new_image_path = \"C:\\\\Users\\\\Avinash\\\\Desktop\\\\test_image.jpg\"\n",
    "new_image = cv2.imread(new_image_path)\n",
    "new_image = cv2.resize(new_image, (128, 128))  # Resize to the model's input size\n",
    "new_image = new_image / 255.0  # Normalize pixel values (if needed)\n",
    "new_data = np.array([new_image])\n",
    "\n",
    "# Make predictions\n",
    "predictions = model.predict(new_data)\n"
   ]
  },
  {
   "cell_type": "code",
   "execution_count": 33,
   "metadata": {},
   "outputs": [],
   "source": [
    "predicted_class = np.argmax(predictions)\n"
   ]
  },
  {
   "cell_type": "code",
   "execution_count": 34,
   "metadata": {},
   "outputs": [
    {
     "name": "stdout",
     "output_type": "stream",
     "text": [
      "Predicted class: Nudibranchs\n"
     ]
    }
   ],
   "source": [
    "# Map the integer prediction back to the class name\n",
    "predicted_class_name = unique_labels[predicted_class]\n",
    "print(f\"Predicted class: {predicted_class_name}\")\n"
   ]
  },
  {
   "cell_type": "code",
   "execution_count": null,
   "metadata": {},
   "outputs": [],
   "source": []
  }
 ],
 "metadata": {
  "kernelspec": {
   "display_name": "Python 3",
   "language": "python",
   "name": "python3"
  },
  "language_info": {
   "codemirror_mode": {
    "name": "ipython",
    "version": 3
   },
   "file_extension": ".py",
   "mimetype": "text/x-python",
   "name": "python",
   "nbconvert_exporter": "python",
   "pygments_lexer": "ipython3",
   "version": "3.11.4"
  }
 },
 "nbformat": 4,
 "nbformat_minor": 2
}
